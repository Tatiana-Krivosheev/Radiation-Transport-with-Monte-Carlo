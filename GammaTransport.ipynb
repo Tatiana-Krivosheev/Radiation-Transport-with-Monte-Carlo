{
 "cells": [
  {
   "cell_type": "markdown",
   "metadata": {},
   "source": [
    "# The Monte Carlo Simulation of Radiation Transport"
   ]
  },
  {
   "cell_type": "markdown",
   "metadata": {},
   "source": [
    "WE will discuss essentiall physics and method to do gamma quanta (photons with high enough energy) radiation transport using Monte Carlo methods. We will covers interactions processes, basics of radiation passing through matter as well as Monte Carlo method and how it helps with radiation propagation. "
   ]
  },
  {
   "cell_type": "markdown",
   "metadata": {},
   "source": [
    "## Basic physics"
   ]
  },
  {
   "cell_type": "markdown",
   "metadata": {},
   "source": [
    "We would cover typical energies and wave length when photons are behaving like a point-like particle interaction with matter."
   ]
  },
  {
   "cell_type": "markdown",
   "metadata": {},
   "source": [
    "### Units"
   ]
  },
  {
   "cell_type": "markdown",
   "metadata": {},
   "source": [
    "Common unit for a photon energy would be electron-volt (eV). This is the kinetic energy electron aquire when it moves in electric field (say, between plates of the capacitor) with potential difference 1Volt. This is very small energy and is equal to about $1.6\\times10^{-19}$Joules. Typical energies we are interested inare in the 1keV to 100MeV range."
   ]
  },
  {
   "cell_type": "markdown",
   "metadata": {},
   "source": [
    "### Spatial size and wave length"
   ]
  },
  {
   "cell_type": "markdown",
   "metadata": {},
   "source": [
    "Photons are massless particles, and it is very easy to compute photon \"size\" which is photon wavelength.\n",
    "$$ \\lambda = \\frac{hc}{E\\gamma} $$\n",
    "where $\\lambda$ is wavelength, $h$ is Plank's constant, $c$ is speed of light and $E\\gamma$ is photon energy. For example, lets compute wavelength for photon with energy 1eV."
   ]
  },
  {
   "cell_type": "code",
   "execution_count": 5,
   "metadata": {},
   "outputs": [
    {
     "name": "stdout",
     "output_type": "stream",
     "text": [
      "Photon wavelength = 1242.1875 nanometers\n"
     ]
    }
   ],
   "source": [
    "h = 6.625e-34\n",
    "c = 3e8\n",
    "Eg = 1.0 * 1.6e-19\n",
    "λ = h*c/Eg\n",
    "print(f\"Photon wavelength = {λ*1.0e9} nanometers\")"
   ]
  },
  {
   "cell_type": "markdown",
   "metadata": {},
   "source": [
    "Thus, for 1keV photon we will get wave length about 1.2 nm, and for 1MeV photon we will get wave length about $1.2\\times10^{-3}$nm."
   ]
  },
  {
   "cell_type": "markdown",
   "metadata": {},
   "source": [
    "FOr comparison, typical atom size is from 0.1nm (He) to 0.4nm (Fr and other heavy). Therefore, for most interactions between photon and atoms in our enery range we could consider it particles, not waves."
   ]
  },
  {
   "cell_type": "markdown",
   "metadata": {},
   "source": [
    "## Basics of Monte Carlo methods"
   ]
  },
  {
   "cell_type": "markdown",
   "metadata": {},
   "source": [
    "Was first introduced by Conte du Buffon, as needle dropping experiment to calculate value of $\\pi$. Laplace extended the example of the CduB by "
   ]
  },
  {
   "cell_type": "markdown",
   "metadata": {},
   "source": [
    "## Basic Photons Interactions with atoms"
   ]
  },
  {
   "cell_type": "markdown",
   "metadata": {},
   "source": [
    "There are several interaction processess of photons with media."
   ]
  },
  {
   "cell_type": "markdown",
   "metadata": {},
   "source": [
    "### Compton Scattering"
   ]
  },
  {
   "cell_type": "code",
   "execution_count": null,
   "metadata": {},
   "outputs": [],
   "source": []
  }
 ],
 "metadata": {
  "kernelspec": {
   "display_name": "Python 3",
   "language": "python",
   "name": "python3"
  },
  "language_info": {
   "codemirror_mode": {
    "name": "ipython",
    "version": 3
   },
   "file_extension": ".py",
   "mimetype": "text/x-python",
   "name": "python",
   "nbconvert_exporter": "python",
   "pygments_lexer": "ipython3",
   "version": "3.7.7"
  }
 },
 "nbformat": 4,
 "nbformat_minor": 4
}
